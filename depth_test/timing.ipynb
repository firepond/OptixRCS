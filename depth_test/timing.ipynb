{
 "cells": [
  {
   "cell_type": "code",
   "execution_count": 16,
   "metadata": {},
   "outputs": [],
   "source": [
    "from timeit import default_timer\n",
    "from runner import Runner"
   ]
  },
  {
   "cell_type": "code",
   "execution_count": 17,
   "metadata": {},
   "outputs": [],
   "source": [
    "runner = Runner()\n",
    "# model_name = \"x35\"\n",
    "# model_name = \"corner_reflector\"\n",
    "# model_name=\"hawker_900\"\n",
    "model_name=\"a380\"\n",
    "model_file = \"C://development//optix//OptixRCS//resources//\" + model_name+\".obj\"\n",
    "csv_file_vs = \"C://development//optix//OptixRCS//time_test//\"+ \"a380_time.csv\"\n",
    "# csv_file = \"../output/\" +model_name + '_rcs_phi.csv'\n",
    "\n",
    "runner.model_file = model_file\n",
    "runner.csv_file = csv_file_vs\n",
    "runner.freq=5E8\n",
    "runner.phi_start=0\n",
    "runner.phi_end=90\n",
    "runner.phi_interval=1\n",
    "runner.theta_start=90\n",
    "runner.theta_end=90\n",
    "runner.rays_per_wavelength=10\n",
    "runner.polarization = \"HH\"\n"
   ]
  },
  {
   "cell_type": "markdown",
   "metadata": {},
   "source": [
    "corner reflector 3E9\n",
    "10, 0.4261853999996674\n",
    "20, 0.35067789999447996\n",
    "30, 0.3966067999936058\n",
    "40, 0.4309198000046308\n",
    "50, 0.4825928999998723\n",
    "60, 0.4753317000067909\n",
    "70, 0.5339390999943134\n",
    "80, 0.5949443999998039\n",
    "90, 0.6824665999956778\n",
    "10  0.7681147000039346"
   ]
  },
  {
   "cell_type": "code",
   "execution_count": 12,
   "metadata": {},
   "outputs": [
    {
     "name": "stdout",
     "output_type": "stream",
     "text": [
      "100, 10.960520300000098\n",
      "\n",
      "101, 9.783809400000791\n",
      "\n",
      "102, 10.021484799999598\n",
      "\n",
      "103, 10.175708700000541\n",
      "\n"
     ]
    },
    {
     "ename": "KeyboardInterrupt",
     "evalue": "",
     "output_type": "error",
     "traceback": [
      "\u001b[1;31m---------------------------------------------------------------------------\u001b[0m",
      "\u001b[1;31mKeyboardInterrupt\u001b[0m                         Traceback (most recent call last)",
      "\u001b[1;32mc:\\development\\optix\\OptixRCS\\time_test\\timing.ipynb Cell 4\u001b[0m in \u001b[0;36m1\n\u001b[0;32m      <a href='vscode-notebook-cell:/c%3A/development/optix/OptixRCS/time_test/timing.ipynb#W3sZmlsZQ%3D%3D?line=8'>9</a>\u001b[0m runner\u001b[39m.\u001b[39mgenerate_json()\n\u001b[0;32m     <a href='vscode-notebook-cell:/c%3A/development/optix/OptixRCS/time_test/timing.ipynb#W3sZmlsZQ%3D%3D?line=9'>10</a>\u001b[0m start \u001b[39m=\u001b[39m default_timer()\n\u001b[1;32m---> <a href='vscode-notebook-cell:/c%3A/development/optix/OptixRCS/time_test/timing.ipynb#W3sZmlsZQ%3D%3D?line=10'>11</a>\u001b[0m runner\u001b[39m.\u001b[39;49mrun()\n\u001b[0;32m     <a href='vscode-notebook-cell:/c%3A/development/optix/OptixRCS/time_test/timing.ipynb#W3sZmlsZQ%3D%3D?line=12'>13</a>\u001b[0m \u001b[39m# file = open(\"./a380_time.csv\", \"a+\") \u001b[39;00m\n\u001b[0;32m     <a href='vscode-notebook-cell:/c%3A/development/optix/OptixRCS/time_test/timing.ipynb#W3sZmlsZQ%3D%3D?line=13'>14</a>\u001b[0m duration \u001b[39m=\u001b[39m default_timer() \u001b[39m-\u001b[39m start\n",
      "File \u001b[1;32mc:\\development\\optix\\OptixRCS\\time_test\\runner.py:59\u001b[0m, in \u001b[0;36mRunner.run\u001b[1;34m(self)\u001b[0m\n\u001b[0;32m     56\u001b[0m \u001b[39mdef\u001b[39;00m \u001b[39mrun\u001b[39m(\u001b[39mself\u001b[39m):\n\u001b[0;32m     57\u001b[0m     \u001b[39m# self.generate_json()\u001b[39;00m\n\u001b[0;32m     58\u001b[0m     config_path \u001b[39m=\u001b[39m \u001b[39m\"\u001b[39m\u001b[39mC:/development/optix/OptixRCS/test/config.json\u001b[39m\u001b[39m\"\u001b[39m\n\u001b[1;32m---> 59\u001b[0m     subprocess\u001b[39m.\u001b[39;49mrun([\u001b[39mself\u001b[39;49m\u001b[39m.\u001b[39;49mexePath, config_path])\n",
      "File \u001b[1;32mc:\\Users\\firepond\\AppData\\Local\\Programs\\Python\\Python310\\lib\\subprocess.py:503\u001b[0m, in \u001b[0;36mrun\u001b[1;34m(input, capture_output, timeout, check, *popenargs, **kwargs)\u001b[0m\n\u001b[0;32m    501\u001b[0m \u001b[39mwith\u001b[39;00m Popen(\u001b[39m*\u001b[39mpopenargs, \u001b[39m*\u001b[39m\u001b[39m*\u001b[39mkwargs) \u001b[39mas\u001b[39;00m process:\n\u001b[0;32m    502\u001b[0m     \u001b[39mtry\u001b[39;00m:\n\u001b[1;32m--> 503\u001b[0m         stdout, stderr \u001b[39m=\u001b[39m process\u001b[39m.\u001b[39;49mcommunicate(\u001b[39minput\u001b[39;49m, timeout\u001b[39m=\u001b[39;49mtimeout)\n\u001b[0;32m    504\u001b[0m     \u001b[39mexcept\u001b[39;00m TimeoutExpired \u001b[39mas\u001b[39;00m exc:\n\u001b[0;32m    505\u001b[0m         process\u001b[39m.\u001b[39mkill()\n",
      "File \u001b[1;32mc:\\Users\\firepond\\AppData\\Local\\Programs\\Python\\Python310\\lib\\subprocess.py:1144\u001b[0m, in \u001b[0;36mPopen.communicate\u001b[1;34m(self, input, timeout)\u001b[0m\n\u001b[0;32m   1142\u001b[0m         stderr \u001b[39m=\u001b[39m \u001b[39mself\u001b[39m\u001b[39m.\u001b[39mstderr\u001b[39m.\u001b[39mread()\n\u001b[0;32m   1143\u001b[0m         \u001b[39mself\u001b[39m\u001b[39m.\u001b[39mstderr\u001b[39m.\u001b[39mclose()\n\u001b[1;32m-> 1144\u001b[0m     \u001b[39mself\u001b[39;49m\u001b[39m.\u001b[39;49mwait()\n\u001b[0;32m   1145\u001b[0m \u001b[39melse\u001b[39;00m:\n\u001b[0;32m   1146\u001b[0m     \u001b[39mif\u001b[39;00m timeout \u001b[39mis\u001b[39;00m \u001b[39mnot\u001b[39;00m \u001b[39mNone\u001b[39;00m:\n",
      "File \u001b[1;32mc:\\Users\\firepond\\AppData\\Local\\Programs\\Python\\Python310\\lib\\subprocess.py:1207\u001b[0m, in \u001b[0;36mPopen.wait\u001b[1;34m(self, timeout)\u001b[0m\n\u001b[0;32m   1205\u001b[0m     endtime \u001b[39m=\u001b[39m _time() \u001b[39m+\u001b[39m timeout\n\u001b[0;32m   1206\u001b[0m \u001b[39mtry\u001b[39;00m:\n\u001b[1;32m-> 1207\u001b[0m     \u001b[39mreturn\u001b[39;00m \u001b[39mself\u001b[39;49m\u001b[39m.\u001b[39;49m_wait(timeout\u001b[39m=\u001b[39;49mtimeout)\n\u001b[0;32m   1208\u001b[0m \u001b[39mexcept\u001b[39;00m \u001b[39mKeyboardInterrupt\u001b[39;00m:\n\u001b[0;32m   1209\u001b[0m     \u001b[39m# https://bugs.python.org/issue25942\u001b[39;00m\n\u001b[0;32m   1210\u001b[0m     \u001b[39m# The first keyboard interrupt waits briefly for the child to\u001b[39;00m\n\u001b[0;32m   1211\u001b[0m     \u001b[39m# exit under the common assumption that it also received the ^C\u001b[39;00m\n\u001b[0;32m   1212\u001b[0m     \u001b[39m# generated SIGINT and will exit rapidly.\u001b[39;00m\n\u001b[0;32m   1213\u001b[0m     \u001b[39mif\u001b[39;00m timeout \u001b[39mis\u001b[39;00m \u001b[39mnot\u001b[39;00m \u001b[39mNone\u001b[39;00m:\n",
      "File \u001b[1;32mc:\\Users\\firepond\\AppData\\Local\\Programs\\Python\\Python310\\lib\\subprocess.py:1488\u001b[0m, in \u001b[0;36mPopen._wait\u001b[1;34m(self, timeout)\u001b[0m\n\u001b[0;32m   1485\u001b[0m     timeout_millis \u001b[39m=\u001b[39m \u001b[39mint\u001b[39m(timeout \u001b[39m*\u001b[39m \u001b[39m1000\u001b[39m)\n\u001b[0;32m   1486\u001b[0m \u001b[39mif\u001b[39;00m \u001b[39mself\u001b[39m\u001b[39m.\u001b[39mreturncode \u001b[39mis\u001b[39;00m \u001b[39mNone\u001b[39;00m:\n\u001b[0;32m   1487\u001b[0m     \u001b[39m# API note: Returns immediately if timeout_millis == 0.\u001b[39;00m\n\u001b[1;32m-> 1488\u001b[0m     result \u001b[39m=\u001b[39m _winapi\u001b[39m.\u001b[39;49mWaitForSingleObject(\u001b[39mself\u001b[39;49m\u001b[39m.\u001b[39;49m_handle,\n\u001b[0;32m   1489\u001b[0m                                          timeout_millis)\n\u001b[0;32m   1490\u001b[0m     \u001b[39mif\u001b[39;00m result \u001b[39m==\u001b[39m _winapi\u001b[39m.\u001b[39mWAIT_TIMEOUT:\n\u001b[0;32m   1491\u001b[0m         \u001b[39mraise\u001b[39;00m TimeoutExpired(\u001b[39mself\u001b[39m\u001b[39m.\u001b[39margs, timeout)\n",
      "\u001b[1;31mKeyboardInterrupt\u001b[0m: "
     ]
    }
   ],
   "source": [
    "\n",
    "model_name=\"a380\"\n",
    "model_file = \"C://development//optix//OptixRCS//resources//\" + model_name+\".obj\"\n",
    "csv_file_vs = \"C://development//optix//OptixRCS//time_test//\"+ \"a380_time.csv\"\n",
    "runner.model_file = model_file\n",
    "runner.csv_file = csv_file_vs\n",
    "\n",
    "for i in range(100, 105):\n",
    "    runner.rays_per_wavelength=i\n",
    "    runner.generate_json()\n",
    "    start = default_timer()\n",
    "    runner.run()\n",
    "\n",
    "    # file = open(\"./a380_time.csv\", \"a+\") \n",
    "    duration = default_timer() - start\n",
    "    csv = \"\"+str(i)+\", \"+str(duration)+'\\n'\n",
    "    # file.write(csv)\n",
    "    print(csv)\n",
    "    # file.close()\n",
    "\n"
   ]
  },
  {
   "cell_type": "code",
   "execution_count": 20,
   "metadata": {},
   "outputs": [
    {
     "name": "stdout",
     "output_type": "stream",
     "text": [
      "379, 10.302278199999819\n",
      "\n",
      "380, 46.741896099999394\n",
      "\n",
      "381, 31.030801699999756\n",
      "\n",
      "382, 85.65071910000006\n",
      "\n",
      "383, 66.4170748000015\n",
      "\n",
      "384, 89.22691410000152\n",
      "\n",
      "385, 100.32775810000021\n",
      "\n"
     ]
    }
   ],
   "source": [
    "\n",
    "model_name=\"x35\"\n",
    "model_file = \"C://development//optix//OptixRCS//resources//\" + model_name+\".obj\"\n",
    "csv_file_vs = \"C://development//optix//OptixRCS//time_test//\"+ \"x35_time.csv\"\n",
    "runner.model_file = model_file\n",
    "runner.csv_file = csv_file_vs\n",
    "\n",
    "for i in range(379, 400, 1):\n",
    "    runner.rays_per_wavelength=i\n",
    "    runner.generate_json()\n",
    "    start = default_timer()\n",
    "    runner.run()\n",
    "\n",
    "    # file = open(\"./a380_time.csv\", \"a+\") \n",
    "    duration = default_timer() - start\n",
    "    csv = \"\"+str(i)+\", \"+str(duration)+'\\n'\n",
    "    # file.write(csv)\n",
    "    print(csv)\n",
    "    # file.close()\n",
    "\n"
   ]
  },
  {
   "cell_type": "code",
   "execution_count": null,
   "metadata": {},
   "outputs": [],
   "source": []
  }
 ],
 "metadata": {
  "kernelspec": {
   "display_name": "Python 3",
   "language": "python",
   "name": "python3"
  },
  "language_info": {
   "codemirror_mode": {
    "name": "ipython",
    "version": 3
   },
   "file_extension": ".py",
   "mimetype": "text/x-python",
   "name": "python",
   "nbconvert_exporter": "python",
   "pygments_lexer": "ipython3",
   "version": "3.10.7"
  },
  "orig_nbformat": 4
 },
 "nbformat": 4,
 "nbformat_minor": 2
}
