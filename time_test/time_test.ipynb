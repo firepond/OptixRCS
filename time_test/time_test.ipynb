{
 "cells": [
  {
   "cell_type": "code",
   "execution_count": 7,
   "metadata": {},
   "outputs": [],
   "source": [
    "from timeit import default_timer\n",
    "from runner import Runner"
   ]
  },
  {
   "cell_type": "code",
   "execution_count": 8,
   "metadata": {},
   "outputs": [],
   "source": [
    "runner = Runner()\n",
    "# model_name = \"x35\"\n",
    "# model_name = \"corner_reflector\"\n",
    "# model_name=\"hawker_900\"\n",
    "model_name=\"a380\"\n",
    "model_file = \"C://development//optix//OptixRCS//resources//\" + model_name+\".obj\"\n",
    "csv_file_vs = \"C://development//optix//OptixRCS//depth_test//\"+ \"a380_depth.csv\"\n",
    "# csv_file = \"../output/\" +model_name + '_rcs_phi.csv'\n",
    "\n",
    "runner.model_file = model_file\n",
    "runner.csv_file = csv_file_vs\n",
    "runner.freq=3E9\n",
    "runner.phi_start=0\n",
    "runner.phi_end=90\n",
    "runner.phi_interval=1\n",
    "runner.theta_start=90\n",
    "runner.theta_end=90\n",
    "runner.rays_per_wavelength=10\n",
    "runner.polarization = \"HH\"\n"
   ]
  },
  {
   "cell_type": "markdown",
   "metadata": {},
   "source": [
    "corner reflector 3E9\n",
    "10, 0.4261853999996674\n",
    "20, 0.35067789999447996\n",
    "30, 0.3966067999936058\n",
    "40, 0.4309198000046308\n",
    "50, 0.4825928999998723\n",
    "60, 0.4753317000067909\n",
    "70, 0.5339390999943134\n",
    "80, 0.5949443999998039\n",
    "90, 0.6824665999956778\n",
    "10  0.7681147000039346"
   ]
  },
  {
   "cell_type": "code",
   "execution_count": 9,
   "metadata": {},
   "outputs": [
    {
     "ename": "FileNotFoundError",
     "evalue": "[WinError 2] The system cannot find the file specified",
     "output_type": "error",
     "traceback": [
      "\u001b[1;31m---------------------------------------------------------------------------\u001b[0m",
      "\u001b[1;31mFileNotFoundError\u001b[0m                         Traceback (most recent call last)",
      "Cell \u001b[1;32mIn[9], line 11\u001b[0m\n\u001b[0;32m      9\u001b[0m runner\u001b[39m.\u001b[39mgenerate_json()\n\u001b[0;32m     10\u001b[0m start \u001b[39m=\u001b[39m default_timer()\n\u001b[1;32m---> 11\u001b[0m runner\u001b[39m.\u001b[39;49mrun()\n\u001b[0;32m     13\u001b[0m file \u001b[39m=\u001b[39m \u001b[39mopen\u001b[39m(\u001b[39m\"\u001b[39m\u001b[39m./a380_time.csv\u001b[39m\u001b[39m\"\u001b[39m, \u001b[39m\"\u001b[39m\u001b[39ma+\u001b[39m\u001b[39m\"\u001b[39m) \n\u001b[0;32m     14\u001b[0m duration \u001b[39m=\u001b[39m default_timer() \u001b[39m-\u001b[39m start\n",
      "File \u001b[1;32mc:\\development\\optix\\OptixRCS\\time_test\\runner.py:59\u001b[0m, in \u001b[0;36mRunner.run\u001b[1;34m(self)\u001b[0m\n\u001b[0;32m     57\u001b[0m \u001b[39mself\u001b[39m\u001b[39m.\u001b[39mgenerate_json()\n\u001b[0;32m     58\u001b[0m config_path \u001b[39m=\u001b[39m \u001b[39m\"\u001b[39m\u001b[39mC:/development/optix/OptixRCS/test/config.json\u001b[39m\u001b[39m\"\u001b[39m\n\u001b[1;32m---> 59\u001b[0m subprocess\u001b[39m.\u001b[39;49mrun([\u001b[39mself\u001b[39;49m\u001b[39m.\u001b[39;49mexePath, config_path])\n",
      "File \u001b[1;32mc:\\Users\\firepond\\AppData\\Local\\Programs\\Python\\Python311\\Lib\\subprocess.py:548\u001b[0m, in \u001b[0;36mrun\u001b[1;34m(input, capture_output, timeout, check, *popenargs, **kwargs)\u001b[0m\n\u001b[0;32m    545\u001b[0m     kwargs[\u001b[39m'\u001b[39m\u001b[39mstdout\u001b[39m\u001b[39m'\u001b[39m] \u001b[39m=\u001b[39m PIPE\n\u001b[0;32m    546\u001b[0m     kwargs[\u001b[39m'\u001b[39m\u001b[39mstderr\u001b[39m\u001b[39m'\u001b[39m] \u001b[39m=\u001b[39m PIPE\n\u001b[1;32m--> 548\u001b[0m \u001b[39mwith\u001b[39;00m Popen(\u001b[39m*\u001b[39;49mpopenargs, \u001b[39m*\u001b[39;49m\u001b[39m*\u001b[39;49mkwargs) \u001b[39mas\u001b[39;00m process:\n\u001b[0;32m    549\u001b[0m     \u001b[39mtry\u001b[39;00m:\n\u001b[0;32m    550\u001b[0m         stdout, stderr \u001b[39m=\u001b[39m process\u001b[39m.\u001b[39mcommunicate(\u001b[39minput\u001b[39m, timeout\u001b[39m=\u001b[39mtimeout)\n",
      "File \u001b[1;32mc:\\Users\\firepond\\AppData\\Local\\Programs\\Python\\Python311\\Lib\\subprocess.py:1026\u001b[0m, in \u001b[0;36mPopen.__init__\u001b[1;34m(self, args, bufsize, executable, stdin, stdout, stderr, preexec_fn, close_fds, shell, cwd, env, universal_newlines, startupinfo, creationflags, restore_signals, start_new_session, pass_fds, user, group, extra_groups, encoding, errors, text, umask, pipesize, process_group)\u001b[0m\n\u001b[0;32m   1022\u001b[0m         \u001b[39mif\u001b[39;00m \u001b[39mself\u001b[39m\u001b[39m.\u001b[39mtext_mode:\n\u001b[0;32m   1023\u001b[0m             \u001b[39mself\u001b[39m\u001b[39m.\u001b[39mstderr \u001b[39m=\u001b[39m io\u001b[39m.\u001b[39mTextIOWrapper(\u001b[39mself\u001b[39m\u001b[39m.\u001b[39mstderr,\n\u001b[0;32m   1024\u001b[0m                     encoding\u001b[39m=\u001b[39mencoding, errors\u001b[39m=\u001b[39merrors)\n\u001b[1;32m-> 1026\u001b[0m     \u001b[39mself\u001b[39;49m\u001b[39m.\u001b[39;49m_execute_child(args, executable, preexec_fn, close_fds,\n\u001b[0;32m   1027\u001b[0m                         pass_fds, cwd, env,\n\u001b[0;32m   1028\u001b[0m                         startupinfo, creationflags, shell,\n\u001b[0;32m   1029\u001b[0m                         p2cread, p2cwrite,\n\u001b[0;32m   1030\u001b[0m                         c2pread, c2pwrite,\n\u001b[0;32m   1031\u001b[0m                         errread, errwrite,\n\u001b[0;32m   1032\u001b[0m                         restore_signals,\n\u001b[0;32m   1033\u001b[0m                         gid, gids, uid, umask,\n\u001b[0;32m   1034\u001b[0m                         start_new_session, process_group)\n\u001b[0;32m   1035\u001b[0m \u001b[39mexcept\u001b[39;00m:\n\u001b[0;32m   1036\u001b[0m     \u001b[39m# Cleanup if the child failed starting.\u001b[39;00m\n\u001b[0;32m   1037\u001b[0m     \u001b[39mfor\u001b[39;00m f \u001b[39min\u001b[39;00m \u001b[39mfilter\u001b[39m(\u001b[39mNone\u001b[39;00m, (\u001b[39mself\u001b[39m\u001b[39m.\u001b[39mstdin, \u001b[39mself\u001b[39m\u001b[39m.\u001b[39mstdout, \u001b[39mself\u001b[39m\u001b[39m.\u001b[39mstderr)):\n",
      "File \u001b[1;32mc:\\Users\\firepond\\AppData\\Local\\Programs\\Python\\Python311\\Lib\\subprocess.py:1538\u001b[0m, in \u001b[0;36mPopen._execute_child\u001b[1;34m(self, args, executable, preexec_fn, close_fds, pass_fds, cwd, env, startupinfo, creationflags, shell, p2cread, p2cwrite, c2pread, c2pwrite, errread, errwrite, unused_restore_signals, unused_gid, unused_gids, unused_uid, unused_umask, unused_start_new_session, unused_process_group)\u001b[0m\n\u001b[0;32m   1536\u001b[0m \u001b[39m# Start the process\u001b[39;00m\n\u001b[0;32m   1537\u001b[0m \u001b[39mtry\u001b[39;00m:\n\u001b[1;32m-> 1538\u001b[0m     hp, ht, pid, tid \u001b[39m=\u001b[39m _winapi\u001b[39m.\u001b[39;49mCreateProcess(executable, args,\n\u001b[0;32m   1539\u001b[0m                              \u001b[39m# no special security\u001b[39;49;00m\n\u001b[0;32m   1540\u001b[0m                              \u001b[39mNone\u001b[39;49;00m, \u001b[39mNone\u001b[39;49;00m,\n\u001b[0;32m   1541\u001b[0m                              \u001b[39mint\u001b[39;49m(\u001b[39mnot\u001b[39;49;00m close_fds),\n\u001b[0;32m   1542\u001b[0m                              creationflags,\n\u001b[0;32m   1543\u001b[0m                              env,\n\u001b[0;32m   1544\u001b[0m                              cwd,\n\u001b[0;32m   1545\u001b[0m                              startupinfo)\n\u001b[0;32m   1546\u001b[0m \u001b[39mfinally\u001b[39;00m:\n\u001b[0;32m   1547\u001b[0m     \u001b[39m# Child is launched. Close the parent's copy of those pipe\u001b[39;00m\n\u001b[0;32m   1548\u001b[0m     \u001b[39m# handles that only the child should have open.  You need\u001b[39;00m\n\u001b[1;32m   (...)\u001b[0m\n\u001b[0;32m   1551\u001b[0m     \u001b[39m# pipe will not close when the child process exits and the\u001b[39;00m\n\u001b[0;32m   1552\u001b[0m     \u001b[39m# ReadFile will hang.\u001b[39;00m\n\u001b[0;32m   1553\u001b[0m     \u001b[39mself\u001b[39m\u001b[39m.\u001b[39m_close_pipe_fds(p2cread, p2cwrite,\n\u001b[0;32m   1554\u001b[0m                          c2pread, c2pwrite,\n\u001b[0;32m   1555\u001b[0m                          errread, errwrite)\n",
      "\u001b[1;31mFileNotFoundError\u001b[0m: [WinError 2] The system cannot find the file specified"
     ]
    }
   ],
   "source": [
    "\n",
    "model_name=\"a380\"\n",
    "model_file = \"C://development//optix//OptixRCS//resources//\" + model_name+\".obj\"\n",
    "csv_file_vs = \"C://development//optix//OptixRCS//depth_test//\"+ \"a380_trace_time2.csv\"\n",
    "runner.model_file = model_file\n",
    "runner.csv_file = csv_file_vs\n",
    "\n",
    "for i in range(1, 11):\n",
    "    runner.trace_depth=i\n",
    "    runner.generate_json()\n",
    "    start = default_timer()\n",
    "    runner.run()\n",
    "\n",
    "    file = open(\"./a380_time.csv\", \"a+\") \n",
    "    duration = default_timer() - start\n",
    "    csv = \"\"+str(i)+\", \"+str(duration)+'\\n'\n",
    "    file.write(csv)\n",
    "    print(csv)\n",
    "    file.close()\n",
    "\n"
   ]
  },
  {
   "cell_type": "code",
   "execution_count": null,
   "metadata": {},
   "outputs": [
    {
     "name": "stdout",
     "output_type": "stream",
     "text": [
      "1, 0.4861862999987352\n",
      "\n",
      "2, 0.5064706000011938\n",
      "\n",
      "3, 0.5248967999996239\n",
      "\n",
      "4, 0.5621680000003835\n",
      "\n",
      "5, 0.5278099000006478\n",
      "\n",
      "6, 0.5080577999997331\n",
      "\n",
      "7, 0.5217758999988291\n",
      "\n",
      "8, 0.5290621999993164\n",
      "\n",
      "9, 0.5247283999997308\n",
      "\n",
      "10, 0.511750599998777\n",
      "\n"
     ]
    }
   ],
   "source": [
    "\n",
    "model_name=\"x35\"\n",
    "model_file = \"C://development//optix//OptixRCS//resources//\" + model_name+\".obj\"\n",
    "csv_file_vs = \"C://development//optix//OptixRCS//depth_test//\"+ \"x35_trace_time2.csv\"\n",
    "runner.model_file = model_file\n",
    "runner.csv_file = csv_file_vs\n",
    "\n",
    "for i in range(1, 11):\n",
    "    runner.trace_depth=i\n",
    "    runner.generate_json()\n",
    "    start = default_timer()\n",
    "    runner.run()\n",
    "\n",
    "    # file = open(\"./a380_time.csv\", \"a+\") \n",
    "    duration = default_timer() - start\n",
    "    csv = \"\"+str(i)+\", \"+str(duration)+'\\n'\n",
    "    # file.write(csv)\n",
    "    print(csv)\n",
    "    # file.close()\n",
    "\n"
   ]
  },
  {
   "cell_type": "code",
   "execution_count": null,
   "metadata": {},
   "outputs": [],
   "source": []
  }
 ],
 "metadata": {
  "kernelspec": {
   "display_name": "Python 3",
   "language": "python",
   "name": "python3"
  },
  "language_info": {
   "codemirror_mode": {
    "name": "ipython",
    "version": 3
   },
   "file_extension": ".py",
   "mimetype": "text/x-python",
   "name": "python",
   "nbconvert_exporter": "python",
   "pygments_lexer": "ipython3",
   "version": "3.11.5"
  },
  "orig_nbformat": 4
 },
 "nbformat": 4,
 "nbformat_minor": 2
}
