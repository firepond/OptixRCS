{
 "cells": [
  {
   "cell_type": "code",
   "execution_count": 5,
   "metadata": {},
   "outputs": [],
   "source": [
    "from timeit import default_timer\n",
    "from runner import Runner"
   ]
  },
  {
   "cell_type": "code",
   "execution_count": 6,
   "metadata": {},
   "outputs": [],
   "source": [
    "runner = Runner()\n",
    "# model_name = \"x35\"\n",
    "# model_name = \"corner_reflector\"\n",
    "# model_name=\"hawker_900\"\n",
    "model_name=\"a380\"\n",
    "model_file = \"C://development//optix//OptixRCS//resources//\" + model_name+\".obj\"\n",
    "csv_file_vs = \"C://development//optix//OptixRCS//reflect_test//\"+ \"a380_rcs.csv\"\n",
    "# csv_file = \"../output/\" +model_name + '_rcs_phi.csv'\n",
    "\n",
    "runner.model_file = model_file\n",
    "runner.csv_file = csv_file_vs\n",
    "runner.freq=3E9\n",
    "runner.phi_start=0\n",
    "runner.phi_end=180\n",
    "runner.phi_interval=1\n",
    "runner.theta_start=90\n",
    "runner.theta_end=90\n",
    "runner.rays_per_wavelength=10\n",
    "runner.polarization = \"HH\"\n"
   ]
  },
  {
   "cell_type": "markdown",
   "metadata": {},
   "source": [
    "corner reflector 3E9\n",
    "10, 0.4261853999996674\n",
    "20, 0.35067789999447996\n",
    "30, 0.3966067999936058\n",
    "40, 0.4309198000046308\n",
    "50, 0.4825928999998723\n",
    "60, 0.4753317000067909\n",
    "70, 0.5339390999943134\n",
    "80, 0.5949443999998039\n",
    "90, 0.6824665999956778\n",
    "10  0.7681147000039346"
   ]
  },
  {
   "cell_type": "code",
   "execution_count": 7,
   "metadata": {},
   "outputs": [
    {
     "name": "stdout",
     "output_type": "stream",
     "text": [
      "0\n",
      "1\n",
      "2\n",
      "3\n",
      "4\n",
      "5\n",
      "6\n",
      "7\n",
      "8\n",
      "9\n",
      "10\n"
     ]
    }
   ],
   "source": [
    "\n",
    "model_name=\"a380\"\n",
    "model_file = \"C://development//optix//OptixRCS//resources//\" + model_name+\".obj\"\n",
    "csv_file_vs = \"C://development//optix//OptixRCS//reflect_test//\"+ \"a380_reflect.csv\"\n",
    "runner.model_file = model_file\n",
    "runner.csv_file = csv_file_vs\n",
    "\n",
    "for i in range(0, 11):\n",
    "    runner.reflectance= i / 10\n",
    "    runner.generate_json()\n",
    "    runner.run()\n",
    "    print(i)\n",
    "  \n",
    "\n"
   ]
  },
  {
   "cell_type": "code",
   "execution_count": 8,
   "metadata": {},
   "outputs": [
    {
     "name": "stdout",
     "output_type": "stream",
     "text": [
      "0\n",
      "1\n",
      "2\n",
      "3\n",
      "4\n",
      "5\n",
      "6\n",
      "7\n",
      "8\n",
      "9\n",
      "10\n"
     ]
    }
   ],
   "source": [
    "\n",
    "model_name=\"x35\"\n",
    "model_file = \"C://development//optix//OptixRCS//resources//\" + model_name+\".obj\"\n",
    "csv_file_vs = \"C://development//optix//OptixRCS//reflect_test//\"+ \"x35_reflect.csv\"\n",
    "runner.model_file = model_file\n",
    "runner.csv_file = csv_file_vs\n",
    "\n",
    "for i in range(0, 11):\n",
    "    runner.reflectance= i / 10\n",
    "    runner.generate_json()\n",
    "    runner.run()\n",
    "    print(i)\n",
    "  \n",
    "\n"
   ]
  }
 ],
 "metadata": {
  "kernelspec": {
   "display_name": "Python 3",
   "language": "python",
   "name": "python3"
  },
  "language_info": {
   "codemirror_mode": {
    "name": "ipython",
    "version": 3
   },
   "file_extension": ".py",
   "mimetype": "text/x-python",
   "name": "python",
   "nbconvert_exporter": "python",
   "pygments_lexer": "ipython3",
   "version": "3.10.7"
  },
  "orig_nbformat": 4
 },
 "nbformat": 4,
 "nbformat_minor": 2
}
